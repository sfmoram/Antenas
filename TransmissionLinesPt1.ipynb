{
  "nbformat": 4,
  "nbformat_minor": 0,
  "metadata": {
    "colab": {
      "provenance": [],
      "authorship_tag": "ABX9TyOMskgbH6YuGW5jVZk6P+Gc",
      "include_colab_link": true
    },
    "kernelspec": {
      "name": "python3",
      "display_name": "Python 3"
    },
    "language_info": {
      "name": "python"
    }
  },
  "cells": [
    {
      "cell_type": "markdown",
      "metadata": {
        "id": "view-in-github",
        "colab_type": "text"
      },
      "source": [
        "<a href=\"https://colab.research.google.com/github/sfmoram/Microwaves-and-Antennas/blob/main/TransmissionLinesPt1.ipynb\" target=\"_parent\"><img src=\"https://colab.research.google.com/assets/colab-badge.svg\" alt=\"Open In Colab\"/></a>"
      ]
    },
    {
      "cell_type": "markdown",
      "source": [
        "#Circuit Model, Propagation Constant, Characteristic Impedance, Reflection Coefficient, VSWR (Voltage Standing Wave Ratio)"
      ],
      "metadata": {
        "id": "ITSS7BGagjHJ"
      }
    },
    {
      "cell_type": "markdown",
      "source": [
        "#Propagation Constant"
      ],
      "metadata": {
        "id": "zaMtBBF_5cR7"
      }
    },
    {
      "cell_type": "code",
      "execution_count": 1,
      "metadata": {
        "id": "hnBo1Fr74HVF"
      },
      "outputs": [],
      "source": [
        "import cmath\n",
        "import math\n",
        "\n",
        "def calcular_constante_propagacion(R, L, G, C, f):\n",
        "    # Construir los términos complejos\n",
        "    j = complex(0, 1)  # Número complejo igual a i\n",
        "    w = 2 * cmath.pi * f  # Calcular la frecuencia angular en radianes por segundo\n",
        "    Z = complex(R, w * L)  # Impedancia compleja (R + jwL)\n",
        "    Y = complex(G, w * C)  # Admitancia compleja (G + jwC)\n",
        "\n",
        "    # Calcular la constante de propagación\n",
        "    gamma = cmath.sqrt(Z * Y)\n",
        "\n",
        "    # Obtener la parte real e imaginaria\n",
        "    constante_atenuacion = gamma.real\n",
        "    constante_fase = gamma.imag\n",
        "\n",
        "    return gamma, constante_atenuacion, constante_fase"
      ]
    },
    {
      "cell_type": "markdown",
      "source": [
        "#Ejemplo de uso:"
      ],
      "metadata": {
        "id": "Whlejo2I588p"
      }
    },
    {
      "cell_type": "code",
      "source": [
        "R = 0  # Resistencia en ohm/m\n",
        "L = 0.2 * 1e-6  # Inductancia en uH/m\n",
        "G = 0  # Conductancia en S/m\n",
        "C = 300 * 1e-12 # Capacitancia en pF/m\n",
        "f = 500e6  # Frecuencia en Hz\n",
        "\n",
        "gamma, atenuacion, fase = calcular_constante_propagacion(R, L, G, C, f)\n",
        "print(\"La constante de propagación es:\", gamma)\n",
        "print(\"La constante de atenuación es:\", atenuacion)\n",
        "print(\"La constante de fase es:\", fase)"
      ],
      "metadata": {
        "colab": {
          "base_uri": "https://localhost:8080/"
        },
        "id": "BLErA_Zi5iAZ",
        "outputId": "41bb83a4-fa59-4e40-8126-74597b07c685"
      },
      "execution_count": 2,
      "outputs": [
        {
          "output_type": "stream",
          "name": "stdout",
          "text": [
            "La constante de propagación es: 24.334672055841672j\n",
            "La constante de atenuación es: 0.0\n",
            "La constante de fase es: 24.334672055841672\n"
          ]
        }
      ]
    },
    {
      "cell_type": "markdown",
      "source": [
        "#Coeficiente de reflexión"
      ],
      "metadata": {
        "id": "LGjGL5KlC3Xb"
      }
    },
    {
      "cell_type": "code",
      "source": [
        "def calcular_coeficiente_reflexion(ZL, Zo):\n",
        "    # Calcular el coeficiente de reflexión\n",
        "    numerador = ZL - Zo\n",
        "    denominador = ZL + Zo\n",
        "    coeficiente_reflexion = numerador / denominador\n",
        "\n",
        "    return coeficiente_reflexion"
      ],
      "metadata": {
        "id": "0mDm_YYEC51R"
      },
      "execution_count": 3,
      "outputs": []
    },
    {
      "cell_type": "code",
      "source": [
        "ZL = 40-10j  # Impedancia de carga\n",
        "Zo = 70  # Impedancia característica\n",
        "\n",
        "coef_reflexion = calcular_coeficiente_reflexion(ZL, Zo)\n",
        "magnitud_coef_reflexion = abs(coef_reflexion)\n",
        "fase_coef_reflexion = cmath.phase(coef_reflexion)\n",
        "\n",
        "print(\"El coeficiente de reflexión es:\", coef_reflexion)\n",
        "print(\"La magnitud del coeficiente de reflexión es:\", magnitud_coef_reflexion)\n",
        "print(\"La fase del coeficiente de reflexión es:\", fase_coef_reflexion)"
      ],
      "metadata": {
        "colab": {
          "base_uri": "https://localhost:8080/"
        },
        "id": "kSMrsFjJDc3G",
        "outputId": "d145f278-5e53-4a12-e485-5b7466cb2064"
      },
      "execution_count": 4,
      "outputs": [
        {
          "output_type": "stream",
          "name": "stdout",
          "text": [
            "El coeficiente de reflexión es: (-0.26229508196721313-0.11475409836065574j)\n",
            "La magnitud del coeficiente de reflexión es: 0.2862991671569341\n",
            "La fase del coeficiente de reflexión es: -2.729182211992406\n"
          ]
        }
      ]
    },
    {
      "cell_type": "markdown",
      "source": [
        "#VSWR"
      ],
      "metadata": {
        "id": "AoEoewf0C5kf"
      }
    },
    {
      "cell_type": "code",
      "source": [
        "def calcular_VSWR(coeficiente_reflexion):\n",
        "    # Calcular el VSWR\n",
        "    magnitud = abs(coeficiente_reflexion)\n",
        "    VSWR = (1 + magnitud) / (1 - magnitud)\n",
        "\n",
        "    return VSWR"
      ],
      "metadata": {
        "id": "U5zvD80dC-nZ"
      },
      "execution_count": 5,
      "outputs": []
    },
    {
      "cell_type": "code",
      "source": [
        "coef_reflexion = 0.316  # Ejemplo de coeficiente de reflexión\n",
        "\n",
        "VSWR = calcular_VSWR(coef_reflexion)\n",
        "print(\"El VSWR es:\", VSWR)"
      ],
      "metadata": {
        "colab": {
          "base_uri": "https://localhost:8080/"
        },
        "id": "OO6uu_-vEPlD",
        "outputId": "e2a10ad0-5d1f-49c4-8f45-12e166a6323a"
      },
      "execution_count": 6,
      "outputs": [
        {
          "output_type": "stream",
          "name": "stdout",
          "text": [
            "El VSWR es: 1.9239766081871348\n"
          ]
        }
      ]
    },
    {
      "cell_type": "markdown",
      "source": [
        "#Magnitud del coeficiente de reflexion en terminos del VSWR"
      ],
      "metadata": {
        "id": "yzfXNSkGjjS2"
      }
    },
    {
      "cell_type": "code",
      "source": [
        "def calcular_magnitud(VSWR):\n",
        "    magnitud = (VSWR - 1) / (1 + VSWR)\n",
        "    return magnitud"
      ],
      "metadata": {
        "id": "DndRSPHAjjmc"
      },
      "execution_count": 7,
      "outputs": []
    },
    {
      "cell_type": "code",
      "source": [
        "VSWR = 2.5  # Valor del VSWR\n",
        "\n",
        "magnitud = calcular_magnitud(VSWR)\n",
        "print(\"La magnitud del coeficiente de reflexión es:\", magnitud)"
      ],
      "metadata": {
        "colab": {
          "base_uri": "https://localhost:8080/"
        },
        "id": "yljkEgGLjqAE",
        "outputId": "5654e70a-ca79-4e8c-f7c9-24844c64a932"
      },
      "execution_count": 8,
      "outputs": [
        {
          "output_type": "stream",
          "name": "stdout",
          "text": [
            "La magnitud del coeficiente de reflexión es: 0.42857142857142855\n"
          ]
        }
      ]
    }
  ]
}